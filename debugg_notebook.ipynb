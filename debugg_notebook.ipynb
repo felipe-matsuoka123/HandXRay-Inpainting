{
 "cells": [
  {
   "cell_type": "code",
   "execution_count": 1,
   "id": "6ea7b447",
   "metadata": {},
   "outputs": [],
   "source": [
    "import pandas as pd\n",
    "from PIL import Image\n",
    "import numpy as np\n",
    "from scipy.stats import entropy"
   ]
  },
  {
   "cell_type": "code",
   "execution_count": 2,
   "id": "99a31709",
   "metadata": {},
   "outputs": [
    {
     "name": "stdout",
     "output_type": "stream",
     "text": [
      "train_df head:       id  boneage   male\n",
      "0  1377      180  False\n",
      "1  1378       12  False\n",
      "2  1379       94  False\n",
      "3  1380      120   True\n",
      "4  1381       82  False\n",
      "test_df head:     Case ID Sex  Ground truth bone age (months)\n",
      "0     4360   M                      168.934249\n",
      "1     4361   M                      169.652678\n",
      "2     4362   M                       73.256112\n",
      "3     4363   M                      152.862669\n",
      "4     4364   M                      135.456954\n"
     ]
    }
   ],
   "source": [
    "train_df = pd.read_csv(r\"C:\\Projetos\\hand-bone\\boneage-training-dataset.csv\")\n",
    "test_df = pd.read_excel(r\"C:\\Projetos\\hand-bone\\Bone age ground truth.xlsx\")\n",
    "\n",
    "print(\"train_df head: \",train_df.head())\n",
    "print(\"test_df head: \", test_df.head())   "
   ]
  },
  {
   "cell_type": "code",
   "execution_count": null,
   "id": "b23bfe78",
   "metadata": {},
   "outputs": [
    {
     "name": "stdout",
     "output_type": "stream",
     "text": [
      "Train Set Analysis\n",
      "Bone Age (months) - Mean: 127.32, Median: 132.00, Std: 41.18\n",
      "Gender distribution: 6833 male (54.2%), 5778 female (45.8%)\n",
      "\n",
      "Test Set Analysis\n",
      "Bone Age (months) - Mean: 132.10, Median: 139.39, Std: 43.13\n",
      "Gender distribution: 100 male (50.0%), 100 female (50.0%)\n"
     ]
    }
   ],
   "source": [
    "print(\"Train Set Analysis\")\n",
    "train_age_mean = train_df['boneage'].mean()\n",
    "train_age_median = train_df['boneage'].median()\n",
    "train_age_std = train_df['boneage'].std()\n",
    "\n",
    "\n",
    "train_male_count = train_df['male'].sum()\n",
    "train_female_count = (~train_df['male']).sum()\n",
    "train_total = len(train_df)\n",
    "train_male_pct = 100 * train_male_count / train_total\n",
    "train_female_pct = 100 * train_female_count / train_total\n",
    "\n",
    "print(f\"Bone Age (months) - Mean: {train_age_mean:.2f}, Median: {train_age_median:.2f}, Std: {train_age_std:.2f}\")\n",
    "print(f\"Gender distribution: {train_male_count} male ({train_male_pct:.1f}%), {train_female_count} female ({train_female_pct:.1f}%)\\n\")\n",
    "\n",
    "\n",
    "print(\"Test Set Analysis\")\n",
    "test_age_mean = test_df['Ground truth bone age (months)'].mean()\n",
    "test_age_median = test_df['Ground truth bone age (months)'].median()\n",
    "test_age_std = test_df['Ground truth bone age (months)'].std()\n",
    "\n",
    "\n",
    "test_male_count = (test_df['Sex'].str.upper() == 'M').sum()\n",
    "test_female_count = (test_df['Sex'].str.upper() == 'F').sum()\n",
    "test_total = len(test_df)\n",
    "test_male_pct = 100 * test_male_count / test_total\n",
    "test_female_pct = 100 * test_female_count / test_total\n",
    "\n",
    "print(f\"Bone Age (months) - Mean: {test_age_mean:.2f}, Median: {test_age_median:.2f}, Std: {test_age_std:.2f}\")\n",
    "print(f\"Gender distribution: {test_male_count} male ({test_male_pct:.1f}%), {test_female_count} female ({test_female_pct:.1f}%)\")"
   ]
  },
  {
   "cell_type": "code",
   "execution_count": null,
   "id": "ff01e6c9",
   "metadata": {},
   "outputs": [
    {
     "name": "stdout",
     "output_type": "stream",
     "text": [
      "\n",
      "📊 Global Consistency Summary:\n",
      "                        mean      std     min      max\n",
      "bone_std              8.7679   5.8135  0.1936  32.4734\n",
      "bone_range           20.4950  13.5136  0.4600  75.0500\n",
      "bone_cv               0.0588   0.0494  0.0010   0.3070\n",
      "gender_prob_std       0.1109   0.0816  0.0010   0.3425\n",
      "gender_prob_range     0.2558   0.1881  0.0025   0.8232\n",
      "gender_entropy        0.1878   0.2910  0.0000   0.6365\n",
      "gender_inconsistent   0.2950   0.4572  0.0000   1.0000\n"
     ]
    },
    {
     "name": "stderr",
     "output_type": "stream",
     "text": [
      "C:\\Users\\felip\\AppData\\Local\\Temp\\ipykernel_28296\\725714768.py:38: FutureWarning: DataFrameGroupBy.apply operated on the grouping columns. This behavior is deprecated, and in a future version of pandas the grouping columns will be excluded from the operation. Either pass `include_groups=False` to exclude the groupings or explicitly select the grouping columns after groupby to silence this warning.\n",
      "  stats_df = df.groupby('id').apply(per_patient_stats).reset_index()\n"
     ]
    }
   ],
   "source": [
    "BONEAGE_PATH = r\"C:\\Projetos\\hand-bone\\cleaned_boneage_predictions_mult.csv\"\n",
    "GENDER_PATH  = r\"C:\\Projetos\\hand-bone\\ensemble_gender_predictions_mult.csv\"\n",
    "\n",
    "\n",
    "df_bone = pd.read_csv(BONEAGE_PATH)\n",
    "df_gender = pd.read_csv(GENDER_PATH)\n",
    "\n",
    "\n",
    "df_bone.columns = [c.strip() for c in df_bone.columns]\n",
    "df_gender.columns = [c.strip() for c in df_gender.columns]\n",
    "\n",
    "df = pd.merge(\n",
    "    df_bone.rename(columns={'Image Name': 'image_name', 'Case ID': 'id'}),\n",
    "    df_gender,\n",
    "    on=['id', 'image_name'],\n",
    "    how='inner'\n",
    ")\n",
    "\n",
    "def per_patient_stats(group):\n",
    "    bone_preds = group['Predicted Months'].values\n",
    "    gender_probs = group['prob_male'].values\n",
    "    gender_preds = group['predicted_label'].values\n",
    "\n",
    "    return pd.Series({\n",
    "        'bone_mean': np.mean(bone_preds),\n",
    "        'bone_std': np.std(bone_preds),\n",
    "        'bone_range': np.ptp(bone_preds),\n",
    "        'bone_cv': np.std(bone_preds) / np.mean(bone_preds) if np.mean(bone_preds) != 0 else np.nan,\n",
    "\n",
    "        'gender_prob_std': np.std(gender_probs),\n",
    "        'gender_prob_range': np.ptp(gender_probs),\n",
    "        'gender_entropy': entropy(np.bincount(gender_preds, minlength=2) / len(gender_preds)),\n",
    "        'gender_inconsistent': int(len(set(gender_preds)) > 1)\n",
    "    })\n",
    "\n",
    "stats_df = df.groupby('id').apply(per_patient_stats).reset_index()\n",
    "\n",
    "\n",
    "stats_df.to_csv(r\"C:\\Projetos\\hand-bone\\figs\\per_patient_consistency_metrics.csv\", index=False)\n",
    "\n",
    "summary = stats_df.describe().loc[['mean', 'std', 'min', 'max']]\n",
    "\n",
    "\n",
    "summary = summary[[\n",
    "    'bone_std', 'bone_range', 'bone_cv',\n",
    "    'gender_prob_std', 'gender_prob_range', 'gender_entropy',\n",
    "    'gender_inconsistent'\n",
    "]]\n",
    "\n",
    "# Print nicely\n",
    "print(\"\\n📊 Global Consistency Summary:\")\n",
    "print(summary.T.round(4))\n",
    "\n"
   ]
  }
 ],
 "metadata": {
  "kernelspec": {
   "display_name": "venv (3.12.4)",
   "language": "python",
   "name": "python3"
  },
  "language_info": {
   "codemirror_mode": {
    "name": "ipython",
    "version": 3
   },
   "file_extension": ".py",
   "mimetype": "text/x-python",
   "name": "python",
   "nbconvert_exporter": "python",
   "pygments_lexer": "ipython3",
   "version": "3.12.4"
  }
 },
 "nbformat": 4,
 "nbformat_minor": 5
}
